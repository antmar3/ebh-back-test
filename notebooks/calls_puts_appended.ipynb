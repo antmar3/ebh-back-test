{
 "cells": [
  {
   "cell_type": "code",
   "execution_count": 1,
   "metadata": {},
   "outputs": [],
   "source": [
    "import pandas as pd\n",
    "import os"
   ]
  },
  {
   "cell_type": "code",
   "execution_count": 12,
   "metadata": {},
   "outputs": [
    {
     "name": "stdout",
     "output_type": "stream",
     "text": [
      "                      t_date          option_symbol        expiration_date  \\\n",
      "0      2005-01-24 00:00:00.0                  FYNLC  2007-12-22 00:00:00.0   \n",
      "1      2005-01-24 00:00:00.0                  FYNLD  2007-12-22 00:00:00.0   \n",
      "2      2005-01-25 00:00:00.0                  FYNLC  2007-12-22 00:00:00.0   \n",
      "3      2005-01-25 00:00:00.0                  FYNLD  2007-12-22 00:00:00.0   \n",
      "4      2005-01-26 00:00:00.0                  FYNLC  2007-12-22 00:00:00.0   \n",
      "...                      ...                    ...                    ...   \n",
      "40419  2025-01-22 00:00:00.0  SPY   261218P00490000  2026-12-18 00:00:00.0   \n",
      "40420  2025-01-23 00:00:00.0  SPY   261218P00485000  2026-12-18 00:00:00.0   \n",
      "40421  2025-01-23 00:00:00.0  SPY   261218P00490000  2026-12-18 00:00:00.0   \n",
      "40422  2025-01-24 00:00:00.0  SPY   261218P00485000  2026-12-18 00:00:00.0   \n",
      "40423  2025-01-24 00:00:00.0  SPY   261218P00490000  2026-12-18 00:00:00.0   \n",
      "\n",
      "       price_strike call_put exchange style    Ask    Bid  price_open  ...  \\\n",
      "0             115.0        C     CBOE     A  15.50  15.30       16.00  ...   \n",
      "1             120.0        C     CBOE     A  12.70  12.50       13.00  ...   \n",
      "2             115.0        C     CBOE     A  15.80  15.50       16.00  ...   \n",
      "3             120.0        C     CBOE     A  13.00  12.70       13.30  ...   \n",
      "4             115.0        C     CBOE     A  15.90  15.70       16.00  ...   \n",
      "...             ...      ...      ...   ...    ...    ...         ...  ...   \n",
      "40419         490.0        P     CBOE     A  15.77  15.43         NaN  ...   \n",
      "40420         485.0        P     CBOE     A  14.74  14.34         NaN  ...   \n",
      "40421         490.0        P     CBOE     A  15.38  14.97       15.32  ...   \n",
      "40422         485.0        P     CBOE     A  14.93  14.53         NaN  ...   \n",
      "40423         490.0        P     CBOE     A  15.59  15.18         NaN  ...   \n",
      "\n",
      "          gamma     theta      vega       rho  volume  openinterest  \\\n",
      "0      0.012167 -0.010615  0.704536  1.673111     401            13   \n",
      "1      0.013284 -0.010245  0.733844  1.566049       9            20   \n",
      "2      0.012042 -0.010674  0.702895  1.681760      10           410   \n",
      "3      0.013143 -0.010324  0.739143  1.576072       2            21   \n",
      "4      0.012025 -0.010695  0.702091  1.695842      10           420   \n",
      "...         ...       ...       ...       ...     ...           ...   \n",
      "40419       NaN       NaN       NaN       NaN       0          1687   \n",
      "40420       NaN       NaN       NaN       NaN       0          1383   \n",
      "40421       NaN       NaN       NaN       NaN       3          1687   \n",
      "40422       NaN       NaN       NaN       NaN       0          1383   \n",
      "40423       NaN       NaN       NaN       NaN       0          1690   \n",
      "\n",
      "       start_date_forward_price    option_id  comment  Unnamed: 0  \n",
      "0                        116.55          NaN      NaN         NaN  \n",
      "1                        116.55          NaN      NaN         NaN  \n",
      "2                        116.55          NaN      NaN         NaN  \n",
      "3                        116.55          NaN      NaN         NaN  \n",
      "4                        116.55          NaN      NaN         NaN  \n",
      "...                         ...          ...      ...         ...  \n",
      "40419                    485.39  130220234.0      NaN         NaN  \n",
      "40420                    485.39  130277430.0      NaN         NaN  \n",
      "40421                    485.39  130220234.0      NaN         NaN  \n",
      "40422                    485.39  130277430.0      NaN         NaN  \n",
      "40423                    485.39  130220234.0      NaN         NaN  \n",
      "\n",
      "[40424 rows x 26 columns]\n"
     ]
    }
   ],
   "source": [
    "folder_path = \"C:\\\\Users\\\\Anthony Marino\\\\OneDrive\\\\Desktop\\\\Python Projects\\\\ebh_strategy_backtest\\\\calls_puts\"\n",
    "\n",
    "# Create an empty list to store DataFrames\n",
    "dataframes = []\n",
    "\n",
    "# Loop through all files in the folder\n",
    "for file in os.listdir(folder_path):\n",
    "    # Check if the file is an Excel file (e.g., .xlsx or .xls)\n",
    "    if file.endswith('.csv'):\n",
    "        # Construct the full file path\n",
    "        file_path = os.path.join(folder_path, file)\n",
    "        \n",
    "        # Read the Excel file into a DataFrame\n",
    "        df = pd.read_csv(file_path)\n",
    "        \n",
    "        # Append the DataFrame to the list\n",
    "        dataframes.append(df)\n",
    "\n",
    "# Concatenate all DataFrames into a single DataFrame\n",
    "final_df = pd.concat(dataframes, ignore_index=True)\n",
    "\n",
    "# Print the result or save to a new Excel file\n",
    "print(final_df)\n",
    "final_df.to_csv('all_calls_puts.csv', header=True)"
   ]
  }
 ],
 "metadata": {
  "kernelspec": {
   "display_name": "base",
   "language": "python",
   "name": "python3"
  },
  "language_info": {
   "codemirror_mode": {
    "name": "ipython",
    "version": 3
   },
   "file_extension": ".py",
   "mimetype": "text/x-python",
   "name": "python",
   "nbconvert_exporter": "python",
   "pygments_lexer": "ipython3",
   "version": "3.12.4"
  }
 },
 "nbformat": 4,
 "nbformat_minor": 2
}
